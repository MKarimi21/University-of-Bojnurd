{
 "cells": [
  {
   "cell_type": "markdown",
   "metadata": {
    "collapsed": true,
    "pycharm": {
     "name": "#%% md\n"
    }
   },
   "source": [
    "<p align=\"center\" style=\"text-align:center\">\n",
    "  <a style=\"display:inline-block\" href=\"https://github.com/MKarimi21/University-of-Bojnurd/tree/master/Data-Mining\" target=\"_blank\">\n",
    "    <img src=\"http://rozup.ir/view/3132924/python-logo.png\" alt=\"Python Examples\" width=\"90\" height=\"90\">\n",
    "  </a>\n",
    "  <a style=\"display:inline-block\" href=\"https://github.com/MKarimi21/University-of-Bojnurd\" target=\"_blank\">\n",
    "    <img src=\"http://rozup.ir/view/3132926/University_of_Bojnord_logo.png\" alt=\"Python Examples\" width=\"100\" height=\"120\">\n",
    "  </a>\n",
    "  <a style=\"display:inline-block\" href=\"https://github.com/MKarimi21/University-of-Bojnurd/tree/master/Data-Mining\" target=\"_blank\">\n",
    "    <img src=\"http://rozup.ir/view/3132925/tlg_group.jpg\" alt=\"Python Examples\" width=\"80\" height=\"80\">\n",
    "  </a>\n",
    "</p> \n",
    "</br>\n",
    "</br>\n",
    "<p align=\"center\" style=\"text-align:center\"> \n",
    "  <a href=\"https://github.com/MKarimi21/University-of-Bojnurd/blob/master/LICENSE\" target=\"_blank\" style=\"display:inline-flex\"><img src=\"https://img.shields.io/badge/Licence-MIT-blue?style=flat-square\" target=\"_blank\"></a>\n",
    "  <a href=\"https://www.mr-karimi.ir\" target=\"_blank\" style=\"display:inline-flex\"><img src=\"https://img.shields.io/badge/Create--by-MKarimi-red?style=flat-square\" target=\"_blank\"></a>\n",
    "</p>\n",
    "\n",
    "<h2 align=\"center\"> Data Mining </h2>\n",
    "<h3 align=\"center\" style=\"font-family:tahoma\">\n",
    "    درس داده کاوی\n",
    "    </h3>\n",
    "\n",
    "\n"
   ]
  },
  {
   "cell_type": "markdown",
   "metadata": {},
   "source": [
    "<h4 align=\"center\" style=\"font-family:tahoma; font-weight:300\">\n",
    "    <b>\n",
    "        تمرین های درس داده کاوی، الگوریتم ها و کاربرد ها - دکتر مربی\n",
    "    </b>\n",
    "    <br>\n",
    "    <br>\n",
    "    دانشجو: مصطفی کریمی\n",
    "</h4>\n",
    "\n"
   ]
  },
  {
   "cell_type": "markdown",
   "metadata": {},
   "source": [
    "<h4 align=\"center\" style=\"font-family:tahoma; font-weight:300\">\n",
    "    <br>\n",
    "    <br>\n",
    "    <b>\n",
    "     #============== پروژه سوم و چهارم ==============#\n",
    "    </b>\n",
    "    <br>\n",
    "    <br>\n",
    "\n",
    "</h4>\n",
    "\n",
    "\n",
    "<h4 align=\"right\" style=\"direction:rtl; font-family:tahoma; font-weight:300\">\n",
    "    یک فایل شامل متغیر کمی و متغیر اسمی با حجم بیش از 200 داده که لااقل یکی از متغیر های کمی شامل گمشده نیز باشد انتخاب کرده.\n",
    "</h4>\n"
   ]
  },
  {
   "cell_type": "markdown",
   "metadata": {
    "pycharm": {
     "name": "#%%\n"
    }
   },
   "source": [
    "### Description\n",
    "\n",
    "About data set\n",
    "This database contains 76 attributes, but all published experiments refer to using a subset of 14 of them. In particular, the Cleveland database is the only one that has been used by ML researchers to\n",
    "this date.The \"target\" field refers to the presence of heart disease in the patient. It is integer valued 0 = no/less chance of heart attack and 1 = more chance of heart attack\n",
    "\n",
    "Attribute Information\n",
    "> - 1)  age\n",
    "> - 2)  sex\n",
    "> - 3)  chest pain type (4 values)\n",
    "> - 4)  resting blood pressure\n",
    "> - 5)  serum cholestoral in mg/dl\n",
    "> - 6)  fasting blood sugar > 120 mg/dl\n",
    "> - 7)  resting electrocardiographic results (values 0,1,2)\n",
    "> - 8)  maximum heart rate achieved\n",
    "> - 9)  exercise induced angina\n",
    "> - 10) oldpeak = ST depression induced by exercise relative to rest\n",
    "> - 11) the slope of the peak exercise ST segment\n",
    "> - 12) number of major vessels (0-3) colored by flourosopy\n",
    "> - 13) thal: 0 = normal; 1 = fixed defect; 2 = reversable defect\n",
    "> - 14) target: 0= less chance of heart attack 1= more chance of heart attack\n",
    "\n",
    "\n",
    "Reference: [Kaggle](https://www.kaggle.com/nareshbhat/health-care-data-set-on-heart-attack-possibility)\n"
   ]
  },
  {
   "cell_type": "code",
   "execution_count": 2,
   "metadata": {
    "pycharm": {
     "name": "#%%\n"
    },
    "scrolled": false
   },
   "outputs": [
    {
     "name": "stdout",
     "output_type": "stream",
     "text": [
      "   age  sex  cp  trestbps  chol  fbs  restecg  thalach  exang  oldpeak  slope  \\\n",
      "1   37    1   2       130   250    0        1      187      0      3.5      0   \n",
      "2   41    0   1       130   204    0        0      172      0      1.4      2   \n",
      "3   56    1   1       120   236    0        1      178      0      0.8      2   \n",
      "4   57    0   0       120   354    0        1      163      1      0.6      2   \n",
      "\n",
      "   ca  thal  target   sex_n             thal_n                     target_n  \\\n",
      "1   0     2       1    male  reversable defect  more chance of heart attack   \n",
      "2   0     2       1  female  reversable defect  more chance of heart attack   \n",
      "3   0     2       1    male  reversable defect  more chance of heart attack   \n",
      "4   0     2       1  female  reversable defect  more chance of heart attack   \n",
      "\n",
      "   chol_n compare  \n",
      "1     250          \n",
      "2     204          \n",
      "3     236          \n",
      "4     354          \n",
      "<class 'pandas.core.frame.DataFrame'>\n",
      "RangeIndex: 303 entries, 0 to 302\n",
      "Data columns (total 19 columns):\n",
      " #   Column    Non-Null Count  Dtype  \n",
      "---  ------    --------------  -----  \n",
      " 0   age       303 non-null    int64  \n",
      " 1   sex       303 non-null    int64  \n",
      " 2   cp        303 non-null    int64  \n",
      " 3   trestbps  303 non-null    int64  \n",
      " 4   chol      303 non-null    int64  \n",
      " 5   fbs       303 non-null    int64  \n",
      " 6   restecg   303 non-null    int64  \n",
      " 7   thalach   303 non-null    int64  \n",
      " 8   exang     303 non-null    int64  \n",
      " 9   oldpeak   303 non-null    float64\n",
      " 10  slope     303 non-null    int64  \n",
      " 11  ca        303 non-null    int64  \n",
      " 12  thal      303 non-null    int64  \n",
      " 13  target    303 non-null    int64  \n",
      " 14  sex_n     303 non-null    object \n",
      " 15  thal_n    303 non-null    object \n",
      " 16  target_n  303 non-null    object \n",
      " 17  chol_n    303 non-null    int64  \n",
      " 18  compare   303 non-null    object \n",
      "dtypes: float64(1), int64(14), object(4)\n",
      "memory usage: 40.3+ KB\n"
     ]
    }
   ],
   "source": [
    "import pandas as pd\n",
    "\n",
    "heart = pd.read_csv(\"heart.csv\")\n",
    "\n",
    "print(heart[1:5])\n",
    "heart.info()"
   ]
  },
  {
   "cell_type": "markdown",
   "metadata": {},
   "source": [
    "\n",
    "<h4 align=\"right\" style=\"direction:rtl; font-family:tahoma; font-weight:300\">\n",
    "    فراخوانی داده ها و انتقال آن ها در ماتریس های مشخص\n",
    "</h4>"
   ]
  },
  {
   "cell_type": "code",
   "execution_count": 3,
   "metadata": {
    "pycharm": {
     "name": "#%%\n"
    },
    "scrolled": false
   },
   "outputs": [
    {
     "name": "stdout",
     "output_type": "stream",
     "text": [
      "\t Age of Person: \n",
      "[63, 37, 41, 56, 57, 57, 56, 44, 52, 57, 54, 48, 49, 64, 58, 50, 58, 66, 43, 69, 59, 44, 42, 61, 40, 71, 59, 51, 65, 53, 41, 65, 44, 54, 51, 46, 54, 54, 65, 65, 51, 48, 45, 53, 39, 52, 44, 47, 53, 53, 51, 66, 62, 44, 63, 52, 48, 45, 34, 57, 71, 54, 52, 41, 58, 35, 51, 45, 44, 62, 54, 51, 29, 51, 43, 55, 51, 59, 52, 58, 41, 45, 60, 52, 42, 67, 68, 46, 54, 58, 48, 57, 52, 54, 45, 53, 62, 52, 43, 53, 42, 59, 63, 42, 50, 68, 69, 45, 50, 50, 64, 57, 64, 43, 55, 37, 41, 56, 46, 46, 64, 59, 41, 54, 39, 34, 47, 67, 52, 74, 54, 49, 42, 41, 41, 49, 60, 62, 57, 64, 51, 43, 42, 67, 76, 70, 44, 60, 44, 42, 66, 71, 64, 66, 39, 58, 47, 35, 58, 56, 56, 55, 41, 38, 38, 67, 67, 62, 63, 53, 56, 48, 58, 58, 60, 40, 60, 64, 43, 57, 55, 65, 61, 58, 50, 44, 60, 54, 50, 41, 51, 58, 54, 60, 60, 59, 46, 67, 62, 65, 44, 60, 58, 68, 62, 52, 59, 60, 49, 59, 57, 61, 39, 61, 56, 43, 62, 63, 65, 48, 63, 55, 65, 56, 54, 70, 62, 35, 59, 64, 47, 57, 55, 64, 70, 51, 58, 60, 77, 35, 70, 59, 64, 57, 56, 48, 56, 66, 54, 69, 51, 43, 62, 67, 59, 45, 58, 50, 62, 38, 66, 52, 53, 63, 54, 66, 55, 49, 54, 56, 46, 61, 67, 58, 47, 52, 58, 57, 58, 61, 42, 52, 59, 40, 61, 46, 59, 57, 57, 55, 61, 58, 58, 67, 44, 63, 63, 59, 57, 45, 68, 57, 57]\n",
      "\n",
      "\t Sex of Person:\n",
      "['male', 'male', 'female', 'male', 'female', 'male', 'female', 'male', 'male', 'male', 'male', 'female', 'male', 'male', 'female', 'female', 'female', 'female', 'male', 'female', 'male', 'male', 'male', 'male', 'male', 'female', 'male', 'male', 'female', 'male', 'female', 'male', 'male', 'male', 'male', 'female', 'female', 'male', 'female', 'female', 'female', 'male', 'male', 'female', 'male', 'male', 'male', 'male', 'female', 'female', 'female', 'male', 'male', 'female', 'female', 'male', 'male', 'male', 'male', 'female', 'female', 'male', 'male', 'male', 'male', 'female', 'male', 'female', 'male', 'female', 'male', 'male', 'male', 'male', 'female', 'female', 'male', 'male', 'male', 'male', 'male', 'male', 'female', 'male', 'female', 'female', 'male', 'male', 'female', 'female', 'male', 'male', 'male', 'female', 'female', 'male', 'female', 'male', 'male', 'male', 'male', 'male', 'female', 'male', 'male', 'female', 'male', 'female', 'female', 'female', 'female', 'male', 'female', 'male', 'male', 'female', 'male', 'male', 'female', 'female', 'female', 'male', 'female', 'female', 'female', 'female', 'male', 'female', 'female', 'female', 'female', 'female', 'male', 'male', 'female', 'female', 'female', 'male', 'male', 'male', 'female', 'male', 'female', 'female', 'female', 'male', 'female', 'female', 'male', 'male', 'male', 'female', 'male', 'female', 'female', 'female', 'male', 'male', 'male', 'male', 'male', 'female', 'male', 'male', 'male', 'male', 'male', 'female', 'male', 'male', 'male', 'male', 'male', 'male', 'male', 'male', 'male', 'male', 'male', 'male', 'male', 'female', 'female', 'male', 'male', 'male', 'male', 'male', 'male', 'male', 'female', 'male', 'male', 'male', 'male', 'male', 'male', 'male', 'male', 'male', 'male', 'male', 'male', 'male', 'female', 'male', 'male', 'female', 'male', 'male', 'male', 'male', 'male', 'female', 'male', 'female', 'female', 'male', 'male', 'male', 'female', 'male', 'male', 'female', 'male', 'male', 'male', 'male', 'male', 'male', 'male', 'male', 'male', 'male', 'male', 'male', 'male', 'male', 'male', 'male', 'male', 'female', 'male', 'male', 'male', 'male', 'female', 'male', 'male', 'male', 'male', 'male', 'female', 'male', 'male', 'male', 'male', 'male', 'female', 'male', 'female', 'male', 'male', 'female', 'male', 'male', 'female', 'male', 'male', 'male', 'male', 'male', 'male', 'male', 'male', 'male', 'male', 'male', 'female', 'male', 'male', 'male', 'male', 'male', 'male', 'male', 'male', 'male', 'male', 'female', 'male', 'male', 'female', 'male', 'male', 'male', 'female', 'male', 'female', 'male', 'male', 'male', 'female']\n",
      "\n",
      "\t Serum Cholestoral:\n",
      "[233, 250, 204, 236, 354, 192, 294, 263, 199, 168, 239, 275, 266, 211, 283, 219, 340, 226, 247, 239, 234, 233, 226, 243, 199, 302, 212, 175, 417, 197, 198, 177, 219, 273, 213, 177, 304, 232, 269, 360, 308, 245, 208, 264, 321, 325, 235, 257, 216, 234, 256, 302, 231, 141, 252, 201, 222, 260, 182, 303, 265, 309, 186, 203, 211, 183, 222, 234, 220, 209, 258, 227, 204, 261, 213, 250, 245, 221, 205, 240, 250, 308, 318, 298, 265, 564, 277, 197, 214, 248, 255, 207, 223, 288, 160, 226, 394, 233, 315, 246, 244, 270, 195, 240, 196, 211, 234, 236, 244, 254, 325, 126, 313, 211, 262, 215, 214, 193, 204, 243, 303, 271, 268, 267, 199, 210, 204, 277, 196, 269, 201, 271, 295, 235, 306, 269, 178, 208, 201, 263, 295, 303, 209, 223, 197, 245, 242, 240, 226, 180, 228, 149, 227, 278, 220, 197, 253, 192, 220, 221, 240, 342, 157, 175, 175, 286, 229, 268, 254, 203, 256, 229, 284, 224, 206, 167, 230, 335, 177, 276, 353, 225, 330, 230, 243, 290, 253, 266, 233, 172, 305, 216, 188, 282, 185, 326, 231, 254, 267, 248, 197, 258, 270, 274, 164, 255, 239, 258, 188, 177, 229, 260, 219, 307, 249, 341, 263, 330, 254, 256, 407, 217, 282, 288, 239, 174, 281, 198, 288, 309, 243, 289, 289, 246, 322, 299, 300, 293, 304, 282, 269, 249, 212, 274, 184, 274, 409, 246, 283, 254, 298, 247, 294, 299, 273, 309, 259, 200, 244, 231, 228, 230, 282, 269, 206, 212, 327, 149, 286, 283, 249, 234, 237, 234, 275, 212, 218, 261, 319, 166, 315, 204, 218, 223, 207, 311, 204, 232, 335, 205, 203, 318, 225, 212, 169, 187, 197, 176, 241, 264, 193, 131, 236]\n"
     ]
    }
   ],
   "source": [
    "heart_age = [heart['age'][i] for i in range(303)]\n",
    "heart_sex = [heart['sex_n'][i] for i in range(303)]\n",
    "heart_chol = [heart['chol'][i] for i in range(303)]\n",
    "\n",
    "\n",
    "print(\"\\t Age of Person: \\n{}\\n\\n\\t Sex of Person:\\n{}\\n\\n\\t Serum Cholestoral:\\n{}\".format(heart_age, heart_sex, heart_chol))"
   ]
  },
  {
   "cell_type": "code",
   "execution_count": 4,
   "metadata": {
    "pycharm": {
     "name": "#%%\n"
    },
    "scrolled": false
   },
   "outputs": [
    {
     "name": "stdout",
     "output_type": "stream",
     "text": [
      "[125, 145, 30] \n",
      "\n",
      "Age Person 125 is 34, gender is female and cholestoral is 210 \n",
      "\n",
      "Age Person 145 is 70, gender is male and cholestoral is 245 \n",
      "\n",
      "Age Person 30 is 41, gender is female and cholestoral is 198 \n",
      "\n"
     ]
    },
    {
     "data": {
      "text/plain": [
       "[None, None, None]"
      ]
     },
     "execution_count": 4,
     "metadata": {},
     "output_type": "execute_result"
    }
   ],
   "source": [
    "import random as rd\n",
    "\n",
    "r = [rd.randint(0, 302) for i in range(3)]\n",
    "\n",
    "print(r,\"\\n\")\n",
    "\n",
    "[print(\"Age Person {} is {}, gender is {} and cholestoral is {} \\n\".format(r[i], heart_age[r[i]], heart_sex[r[i]], heart_chol[r[i]])) for i in range(3)]\n"
   ]
  },
  {
   "cell_type": "markdown",
   "metadata": {},
   "source": [
    "\n",
    "<h4 align=\"right\" style=\"direction:rtl; font-family:tahoma; font-weight:300\">\n",
    "داده های گمشده در متغیر های کمی را جایگذاری کنید و در متغیر های جدید ذخیره کنید.\n",
    "</h4>"
   ]
  },
  {
   "cell_type": "markdown",
   "metadata": {
    "pycharm": {
     "name": "#%% md\n"
    }
   },
   "source": [
    "<h4 align=\"right\" style=\"direction:rtl; font-family:tahoma; font-weight:300\">\n",
    "بررسی برای سن افراد\n",
    "</h4>"
   ]
  },
  {
   "cell_type": "code",
   "execution_count": 5,
   "metadata": {
    "pycharm": {
     "name": "#%%\n"
    },
    "scrolled": false
   },
   "outputs": [
    {
     "data": {
      "image/png": "[encoded data removed]",
      "text/plain": [
       "<Figure size 432x288 with 1 Axes>"
      ]
     },
     "metadata": {
      "needs_background": "light"
     },
     "output_type": "display_data"
    },
    {
     "data": {
      "image/png": "[encoded data removed]",
      "text/plain": [
       "<Figure size 432x288 with 1 Axes>"
      ]
     },
     "metadata": {
      "needs_background": "light"
     },
     "output_type": "display_data"
    }
   ],
   "source": [
    "import matplotlib.pyplot as plt\n",
    "import numpy as np\n",
    "\n",
    "bins = np.arange(20, max(heart_age)+20, 2)\n",
    "\n",
    "a = plt.hist(heart_age, bins = bins, facecolor='g')\n",
    "\n",
    "plt.xlabel(\"Age of Person\")\n",
    "plt.ylabel(\"Count\")\n",
    "plt.title(\"Histogram of Person Heart Age\")\n",
    "plt.text(20, 25, r'$M-Karimi$')\n",
    "plt.ylim(0, 38)\n",
    "plt.grid(True)\n",
    "plt.show()\n",
    "\n",
    "import seaborn as sb\n",
    "\n",
    "sb.distplot(heart_age);"
   ]
  },
  {
   "cell_type": "markdown",
   "metadata": {
    "pycharm": {
     "name": "#%% md\n"
    }
   },
   "source": [
    "<h4 align=\"right\" style=\"direction:rtl; font-family:tahoma; font-weight:300\">\n",
    "بررسی برای میزان کلسترول\n",
    "</h4>"
   ]
  },
  {
   "cell_type": "code",
   "execution_count": 6,
   "metadata": {
    "pycharm": {
     "name": "#%%\n"
    }
   },
   "outputs": [
    {
     "data": {
      "image/png": "[encoded data removed]",
      "text/plain": [
       "<Figure size 432x288 with 1 Axes>"
      ]
     },
     "metadata": {
      "needs_background": "light"
     },
     "output_type": "display_data"
    },
    {
     "data": {
      "image/png": "[encoded data removed]",
      "text/plain": [
       "<Figure size 432x288 with 1 Axes>"
      ]
     },
     "metadata": {
      "needs_background": "light"
     },
     "output_type": "display_data"
    }
   ],
   "source": [
    "import matplotlib.pyplot as plt\n",
    "import numpy as np\n",
    "import seaborn as sb\n",
    "\n",
    "bins = np.arange(0, max(heart_chol)+1, 10)\n",
    "\n",
    "a = plt.hist(heart_chol, bins = bins, facecolor='g')\n",
    "\n",
    "\n",
    "\n",
    "plt.xlabel(\"Cholestoral of Person\")\n",
    "plt.ylabel(\"Count\")\n",
    "plt.title(\"Histogram of Person Cholestoral\")\n",
    "plt.text(20, 25, r'$M-Karimi$')\n",
    "plt.ylim(0, 33)\n",
    "plt.grid(True)\n",
    "plt.show()\n",
    "\n",
    "sb.distplot(heart_chol);"
   ]
  },
  {
   "cell_type": "markdown",
   "metadata": {
    "pycharm": {
     "name": "#%% md\n"
    }
   },
   "source": [
    "\n",
    "<h4 align=\"right\" style=\"direction:rtl; font-family:tahoma; font-weight:300\">\n",
    "پراکندی داده ها یا Scatterplots\n",
    "</h4>"
   ]
  },
  {
   "cell_type": "code",
   "execution_count": 7,
   "metadata": {
    "pycharm": {
     "name": "#%%\n"
    }
   },
   "outputs": [
    {
     "data": {
      "image/png": "[encoded data removed]",
      "text/plain": [
       "<Figure size 432x288 with 1 Axes>"
      ]
     },
     "metadata": {
      "needs_background": "light"
     },
     "output_type": "display_data"
    }
   ],
   "source": [
    "plt.scatter(data = heart, x = 'age', y = 'chol');\n",
    "\n",
    "plt.xlabel(\"Age\")\n",
    "plt.ylabel(\"Cholestoral\");"
   ]
  },
  {
   "cell_type": "code",
   "execution_count": 8,
   "metadata": {
    "pycharm": {
     "name": "#%%\n"
    }
   },
   "outputs": [
    {
     "data": {
      "image/png": "[encoded data removed]",
      "text/plain": [
       "<Figure size 432x288 with 1 Axes>"
      ]
     },
     "metadata": {
      "needs_background": "light"
     },
     "output_type": "display_data"
    }
   ],
   "source": [
    "sb.regplot(data = heart, x = 'age', y = 'chol');"
   ]
  },
  {
   "cell_type": "markdown",
   "metadata": {
    "pycharm": {
     "name": "#%% md\n"
    }
   },
   "source": [
    "<h4 align=\"right\" style=\"direction:rtl; font-family:tahoma; font-weight:300\">\n",
    "ایجاد دامنه پراکندگی و جایگزینی آن با میانه کلسترول\n",
    "</h4>"
   ]
  },
  {
   "cell_type": "code",
   "execution_count": 9,
   "metadata": {
    "pycharm": {
     "name": "#%%\n"
    }
   },
   "outputs": [
    {
     "name": "stdout",
     "output_type": "stream",
     "text": [
      "Median is: 240\n",
      "Quantile: [211.0, 240.0, 275.0]\n",
      "Distance of IQR: 96.0\n",
      "Low is [* 115.0 *] and High is [* 371.0 *]\n"
     ]
    }
   ],
   "source": [
    "import statistics as stc\n",
    "\n",
    "h_median = stc.median(heart_chol)\n",
    "print(\"Median is: {}\".format(h_median))\n",
    "\n",
    "h_Qua = stc.quantiles(heart_chol)\n",
    "h_IQR = h_Qua[2] - h_Qua[0]\n",
    "\n",
    "print(\"Quantile: {}\".format(h_Qua))\n",
    "\n",
    "h_DisIQR = h_IQR * 1.5\n",
    "print(\"Distance of IQR: {}\".format(h_DisIQR))\n",
    "\n",
    "h_IQLow = h_Qua[0] - h_DisIQR\n",
    "h_IQHig = h_Qua[2] + h_DisIQR\n",
    "\n",
    "print(\"Low is [* {} *] and High is [* {} *]\".format(h_IQLow, h_IQHig))"
   ]
  },
  {
   "cell_type": "markdown",
   "metadata": {
    "pycharm": {
     "name": "#%% md\n"
    }
   },
   "source": [
    "<h4 align=\"right\" style=\"direction:rtl; font-family:tahoma; font-weight:300\">\n",
    "حذف نوییز ها از داده های کلسترول و جایگزینی آن ها با میانه\n",
    "</h4>"
   ]
  },
  {
   "cell_type": "code",
   "execution_count": 10,
   "metadata": {
    "pycharm": {
     "is_executing": true,
     "name": "#%%\n"
    }
   },
   "outputs": [
    {
     "name": "stdout",
     "output_type": "stream",
     "text": [
      "[0, 0, 0, 0, 0, 0, 0, 0, 0, 0, 0, 0, 0, 0, 0, 0, 0, 0, 0, 0, 0, 0, 0, 0, 0, 0, 0, 0, 0, 0, 0, 0, 0, 0, 0, 0, 0, 0, 0, 0, 0, 0, 0, 0, 0, 0, 0, 0, 0, 0, 0, 0, 0, 0, 0, 0, 0, 0, 0, 0, 0, 0, 0, 0, 0, 0, 0, 0, 0, 0, 0, 0, 0, 0, 0, 0, 0, 0, 0, 0, 0, 0, 0, 0, 0, 0, 0, 0, 0, 0, 0, 0, 0, 0, 0, 0, 0, 0, 0, 0, 0, 0, 0, 0, 0, 0, 0, 0, 0, 0, 0, 0, 0, 0, 0, 0, 0, 0, 0, 0, 0, 0, 0, 0, 0, 0, 0, 0, 0, 0, 0, 0, 0, 0, 0, 0, 0, 0, 0, 0, 0, 0, 0, 0, 0, 0, 0, 0, 0, 0, 0, 0, 0, 0, 0, 0, 0, 0, 0, 0, 0, 0, 0, 0, 0, 0, 0, 0, 0, 0, 0, 0, 0, 0, 0, 0, 0, 0, 0, 0, 0, 0, 0, 0, 0, 0, 0, 0, 0, 0, 0, 0, 0, 0, 0, 0, 0, 0, 0, 0, 0, 0, 0, 0, 0, 0, 0, 0, 0, 0, 0, 0, 0, 0, 0, 0, 0, 0, 0, 0, 0, 0, 0, 0, 0, 0, 0, 0, 0, 0, 0, 0, 0, 0, 0, 0, 0, 0, 0, 0, 0, 0, 0, 0, 0, 0, 0, 0, 0, 0, 0, 0, 0, 0, 0, 0, 0, 0, 0, 0, 0, 0, 0, 0, 0, 0, 0, 0, 0, 0, 0, 0, 0, 0, 0, 0, 0, 0, 0, 0, 0, 0, 0, 0, 0, 0, 0, 0, 0, 0, 0, 0, 0, 0, 0, 0, 0, 0, 0, 0, 0, 0, 0] \n",
      "\n",
      "[233, 250, 204, 236, 354, 192, 294, 263, 199, 168, 239, 275, 266, 211, 283, 219, 340, 226, 247, 239, 234, 233, 226, 243, 199, 302, 212, 175, 240, 197, 198, 177, 219, 273, 213, 177, 304, 232, 269, 360, 308, 245, 208, 264, 321, 325, 235, 257, 216, 234, 256, 302, 231, 141, 252, 201, 222, 260, 182, 303, 265, 309, 186, 203, 211, 183, 222, 234, 220, 209, 258, 227, 204, 261, 213, 250, 245, 221, 205, 240, 250, 308, 318, 298, 265, 240, 277, 197, 214, 248, 255, 207, 223, 288, 160, 226, 240, 233, 315, 246, 244, 270, 195, 240, 196, 211, 234, 236, 244, 254, 325, 126, 313, 211, 262, 215, 214, 193, 204, 243, 303, 271, 268, 267, 199, 210, 204, 277, 196, 269, 201, 271, 295, 235, 306, 269, 178, 208, 201, 263, 295, 303, 209, 223, 197, 245, 242, 240, 226, 180, 228, 149, 227, 278, 220, 197, 253, 192, 220, 221, 240, 342, 157, 175, 175, 286, 229, 268, 254, 203, 256, 229, 284, 224, 206, 167, 230, 335, 177, 276, 353, 225, 330, 230, 243, 290, 253, 266, 233, 172, 305, 216, 188, 282, 185, 326, 231, 254, 267, 248, 197, 258, 270, 274, 164, 255, 239, 258, 188, 177, 229, 260, 219, 307, 249, 341, 263, 330, 254, 256, 240, 217, 282, 288, 239, 174, 281, 198, 288, 309, 243, 289, 289, 246, 322, 299, 300, 293, 304, 282, 269, 249, 212, 274, 184, 274, 240, 246, 283, 254, 298, 247, 294, 299, 273, 309, 259, 200, 244, 231, 228, 230, 282, 269, 206, 212, 327, 149, 286, 283, 249, 234, 237, 234, 275, 212, 218, 261, 319, 166, 315, 204, 218, 223, 207, 311, 204, 232, 335, 205, 203, 318, 225, 212, 169, 187, 197, 176, 241, 264, 193, 131, 236]\n"
     ]
    }
   ],
   "source": [
    "import statistics as stc\n",
    "\n",
    "h_median = stc.median(heart_chol)\n",
    "\n",
    "heart_newChol = [0]*303\n",
    "print(heart_newChol,\"\\n\")\n",
    "\n",
    "for i in range(len(heart_chol)):\n",
    "    if heart_chol[i] > h_IQLow and heart_chol[i] < h_IQHig:\n",
    "        heart_newChol[i] = heart_chol[i]\n",
    "    else:\n",
    "        heart_newChol[i] = h_median\n",
    "\n",
    "print(heart_newChol)"
   ]
  },
  {
   "cell_type": "code",
   "execution_count": 11,
   "metadata": {},
   "outputs": [
    {
     "name": "stdout",
     "output_type": "stream",
     "text": [
      "[233, 250, 204, 236, 354, 192, 294, 263, 199, 168, 239, 275, 266, 211, 283, 219, 340, 226, 247, 239, 234, 233, 226, 243, 199, 302, 212, 175, 240, 197, 198, 177, 219, 273, 213, 177, 304, 232, 269, 360, 308, 245, 208, 264, 321, 325, 235, 257, 216, 234, 256, 302, 231, 141, 252, 201, 222, 260, 182, 303, 265, 309, 186, 203, 211, 183, 222, 234, 220, 209, 258, 227, 204, 261, 213, 250, 245, 221, 205, 240, 250, 308, 318, 298, 265, 240, 277, 197, 214, 248, 255, 207, 223, 288, 160, 226, 240, 233, 315, 246, 244, 270, 195, 240, 196, 211, 234, 236, 244, 254, 325, 126, 313, 211, 262, 215, 214, 193, 204, 243, 303, 271, 268, 267, 199, 210, 204, 277, 196, 269, 201, 271, 295, 235, 306, 269, 178, 208, 201, 263, 295, 303, 209, 223, 197, 245, 242, 240, 226, 180, 228, 149, 227, 278, 220, 197, 253, 192, 220, 221, 240, 342, 157, 175, 175, 286, 229, 268, 254, 203, 256, 229, 284, 224, 206, 167, 230, 335, 177, 276, 353, 225, 330, 230, 243, 290, 253, 266, 233, 172, 305, 216, 188, 282, 185, 326, 231, 254, 267, 248, 197, 258, 270, 274, 164, 255, 239, 258, 188, 177, 229, 260, 219, 307, 249, 341, 263, 330, 254, 256, 240, 217, 282, 288, 239, 174, 281, 198, 288, 309, 243, 289, 289, 246, 322, 299, 300, 293, 304, 282, 269, 249, 212, 274, 184, 274, 240, 246, 283, 254, 298, 247, 294, 299, 273, 309, 259, 200, 244, 231, 228, 230, 282, 269, 206, 212, 327, 149, 286, 283, 249, 234, 237, 234, 275, 212, 218, 261, 319, 166, 315, 204, 218, 223, 207, 311, 204, 232, 335, 205, 203, 318, 225, 212, 169, 187, 197, 176, 241, 264, 193, 131, 236]\n"
     ]
    },
    {
     "data": {
      "image/png": "[encoded data removed]",
      "text/plain": [
       "<Figure size 432x288 with 1 Axes>"
      ]
     },
     "metadata": {
      "needs_background": "light"
     },
     "output_type": "display_data"
    }
   ],
   "source": [
    "import seaborn as sb\n",
    "\n",
    "\n",
    "\n",
    "print(heart_newChol)\n",
    "sb.distplot(heart_newChol);\n",
    "\n",
    "\n"
   ]
  },
  {
   "cell_type": "code",
   "execution_count": 12,
   "metadata": {
    "pycharm": {
     "is_executing": true,
     "name": "#%%\n"
    }
   },
   "outputs": [
    {
     "data": {
      "image/png": "[encoded data removed]",
      "text/plain": [
       "<Figure size 432x288 with 1 Axes>"
      ]
     },
     "metadata": {
      "needs_background": "light"
     },
     "output_type": "display_data"
    }
   ],
   "source": [
    "sb.regplot(data = heart, x = 'age', y = 'chol_n');"
   ]
  },
  {
   "cell_type": "markdown",
   "metadata": {
    "pycharm": {
     "name": "#%% md\n"
    }
   },
   "source": [
    "<h4 align=\"right\" style=\"direction:rtl; font-family:tahoma; font-weight:300\">\n",
    "محاسبه رگرسیون بعد از تمیز کاری\n",
    "</h4>"
   ]
  },
  {
   "cell_type": "markdown",
   "metadata": {},
   "source": [
    "$$ y = w_{1}x_{1} + w_{2}x_{2} + w_{3}x_{3} + b$$\n",
    "\n",
    "\n",
    "$$ \\left\\{\\begin{matrix}\n",
    "x_{1} = age\\\\ \n",
    "x_{2} = cholestoral\\\\ \n",
    "x_{3} = fasting - blood - sugar\n",
    "\\end{matrix}\\right.\n",
    "$$\n",
    "\n",
    "\n",
    "$$\n",
    "y = target \n",
    "$$"
   ]
  },
  {
   "cell_type": "code",
   "execution_count": 13,
   "metadata": {
    "pycharm": {
     "name": "#%%\n"
    },
    "scrolled": true
   },
   "outputs": [
    {
     "name": "stdout",
     "output_type": "stream",
     "text": [
      "\n",
      "\t Way 1: X = \n",
      "\n",
      "[[ 63 233   1]\n",
      " [ 37 250   0]\n",
      " [ 41 204   0]\n",
      " [ 56 236   0]\n",
      " [ 57 354   0]\n",
      " [ 57 192   0]\n",
      " [ 56 294   0]\n",
      " [ 44 263   0]\n",
      " [ 52 199   1]\n",
      " [ 57 168   0]\n",
      " [ 54 239   0]\n",
      " [ 48 275   0]\n",
      " [ 49 266   0]\n",
      " [ 64 211   0]\n",
      " [ 58 283   1]\n",
      " [ 50 219   0]\n",
      " [ 58 340   0]\n",
      " [ 66 226   0]\n",
      " [ 43 247   0]\n",
      " [ 69 239   0]\n",
      " [ 59 234   0]\n",
      " [ 44 233   0]\n",
      " [ 42 226   0]\n",
      " [ 61 243   1]\n",
      " [ 40 199   0]\n",
      " [ 71 302   0]\n",
      " [ 59 212   1]\n",
      " [ 51 175   0]\n",
      " [ 65 240   1]\n",
      " [ 53 197   1]\n",
      " [ 41 198   0]\n",
      " [ 65 177   0]\n",
      " [ 44 219   0]\n",
      " [ 54 273   0]\n",
      " [ 51 213   0]\n",
      " [ 46 177   0]\n",
      " [ 54 304   1]\n",
      " [ 54 232   0]\n",
      " [ 65 269   0]\n",
      " [ 65 360   0]\n",
      " [ 51 308   0]\n",
      " [ 48 245   0]\n",
      " [ 45 208   0]\n",
      " [ 53 264   0]\n",
      " [ 39 321   0]\n",
      " [ 52 325   0]\n",
      " [ 44 235   0]\n",
      " [ 47 257   0]\n",
      " [ 53 216   0]\n",
      " [ 53 234   0]\n",
      " [ 51 256   0]\n",
      " [ 66 302   0]\n",
      " [ 62 231   0]\n",
      " [ 44 141   0]\n",
      " [ 63 252   0]\n",
      " [ 52 201   0]\n",
      " [ 48 222   0]\n",
      " [ 45 260   0]\n",
      " [ 34 182   0]\n",
      " [ 57 303   0]\n",
      " [ 71 265   1]\n",
      " [ 54 309   0]\n",
      " [ 52 186   0]\n",
      " [ 41 203   0]\n",
      " [ 58 211   1]\n",
      " [ 35 183   0]\n",
      " [ 51 222   0]\n",
      " [ 45 234   0]\n",
      " [ 44 220   0]\n",
      " [ 62 209   0]\n",
      " [ 54 258   0]\n",
      " [ 51 227   0]\n",
      " [ 29 204   0]\n",
      " [ 51 261   0]\n",
      " [ 43 213   0]\n",
      " [ 55 250   0]\n",
      " [ 51 245   1]\n",
      " [ 59 221   0]\n",
      " [ 52 205   1]\n",
      " [ 58 240   0]\n",
      " [ 41 250   0]\n",
      " [ 45 308   0]\n",
      " [ 60 318   0]\n",
      " [ 52 298   1]\n",
      " [ 42 265   0]\n",
      " [ 67 240   0]\n",
      " [ 68 277   0]\n",
      " [ 46 197   1]\n",
      " [ 54 214   0]\n",
      " [ 58 248   0]\n",
      " [ 48 255   1]\n",
      " [ 57 207   0]\n",
      " [ 52 223   0]\n",
      " [ 54 288   1]\n",
      " [ 45 160   0]\n",
      " [ 53 226   0]\n",
      " [ 62 240   0]\n",
      " [ 52 233   1]\n",
      " [ 43 315   0]\n",
      " [ 53 246   1]\n",
      " [ 42 244   0]\n",
      " [ 59 270   0]\n",
      " [ 63 195   0]\n",
      " [ 42 240   1]\n",
      " [ 50 196   0]\n",
      " [ 68 211   0]\n",
      " [ 69 234   1]\n",
      " [ 45 236   0]\n",
      " [ 50 244   0]\n",
      " [ 50 254   0]\n",
      " [ 64 325   0]\n",
      " [ 57 126   1]\n",
      " [ 64 313   0]\n",
      " [ 43 211   0]\n",
      " [ 55 262   0]\n",
      " [ 37 215   0]\n",
      " [ 41 214   0]\n",
      " [ 56 193   0]\n",
      " [ 46 204   0]\n",
      " [ 46 243   0]\n",
      " [ 64 303   0]\n",
      " [ 59 271   0]\n",
      " [ 41 268   0]\n",
      " [ 54 267   0]\n",
      " [ 39 199   0]\n",
      " [ 34 210   0]\n",
      " [ 47 204   0]\n",
      " [ 67 277   0]\n",
      " [ 52 196   0]\n",
      " [ 74 269   0]\n",
      " [ 54 201   0]\n",
      " [ 49 271   0]\n",
      " [ 42 295   0]\n",
      " [ 41 235   0]\n",
      " [ 41 306   0]\n",
      " [ 49 269   0]\n",
      " [ 60 178   1]\n",
      " [ 62 208   1]\n",
      " [ 57 201   0]\n",
      " [ 64 263   0]\n",
      " [ 51 295   0]\n",
      " [ 43 303   0]\n",
      " [ 42 209   0]\n",
      " [ 67 223   0]\n",
      " [ 76 197   0]\n",
      " [ 70 245   0]\n",
      " [ 44 242   0]\n",
      " [ 60 240   0]\n",
      " [ 44 226   0]\n",
      " [ 42 180   0]\n",
      " [ 66 228   0]\n",
      " [ 71 149   0]\n",
      " [ 64 227   0]\n",
      " [ 66 278   0]\n",
      " [ 39 220   0]\n",
      " [ 58 197   0]\n",
      " [ 47 253   0]\n",
      " [ 35 192   0]\n",
      " [ 58 220   0]\n",
      " [ 56 221   0]\n",
      " [ 56 240   0]\n",
      " [ 55 342   0]\n",
      " [ 41 157   0]\n",
      " [ 38 175   0]\n",
      " [ 38 175   0]\n",
      " [ 67 286   0]\n",
      " [ 67 229   0]\n",
      " [ 62 268   0]\n",
      " [ 63 254   0]\n",
      " [ 53 203   1]\n",
      " [ 56 256   1]\n",
      " [ 48 229   0]\n",
      " [ 58 284   0]\n",
      " [ 58 224   0]\n",
      " [ 60 206   0]\n",
      " [ 40 167   0]\n",
      " [ 60 230   1]\n",
      " [ 64 335   0]\n",
      " [ 43 177   0]\n",
      " [ 57 276   0]\n",
      " [ 55 353   0]\n",
      " [ 65 225   0]\n",
      " [ 61 330   0]\n",
      " [ 58 230   0]\n",
      " [ 50 243   0]\n",
      " [ 44 290   0]\n",
      " [ 60 253   0]\n",
      " [ 54 266   0]\n",
      " [ 50 233   0]\n",
      " [ 41 172   0]\n",
      " [ 51 305   0]\n",
      " [ 58 216   0]\n",
      " [ 54 188   0]\n",
      " [ 60 282   0]\n",
      " [ 60 185   0]\n",
      " [ 59 326   0]\n",
      " [ 46 231   0]\n",
      " [ 67 254   1]\n",
      " [ 62 267   0]\n",
      " [ 65 248   0]\n",
      " [ 44 197   0]\n",
      " [ 60 258   0]\n",
      " [ 58 270   0]\n",
      " [ 68 274   1]\n",
      " [ 62 164   0]\n",
      " [ 52 255   0]\n",
      " [ 59 239   0]\n",
      " [ 60 258   0]\n",
      " [ 49 188   0]\n",
      " [ 59 177   0]\n",
      " [ 57 229   0]\n",
      " [ 61 260   0]\n",
      " [ 39 219   0]\n",
      " [ 61 307   0]\n",
      " [ 56 249   1]\n",
      " [ 43 341   1]\n",
      " [ 62 263   0]\n",
      " [ 63 330   1]\n",
      " [ 65 254   0]\n",
      " [ 48 256   1]\n",
      " [ 63 240   0]\n",
      " [ 55 217   0]\n",
      " [ 65 282   1]\n",
      " [ 56 288   1]\n",
      " [ 54 239   0]\n",
      " [ 70 174   0]\n",
      " [ 62 281   0]\n",
      " [ 35 198   0]\n",
      " [ 59 288   0]\n",
      " [ 64 309   0]\n",
      " [ 47 243   0]\n",
      " [ 57 289   1]\n",
      " [ 55 289   0]\n",
      " [ 64 246   0]\n",
      " [ 70 322   0]\n",
      " [ 51 299   0]\n",
      " [ 58 300   0]\n",
      " [ 60 293   0]\n",
      " [ 77 304   0]\n",
      " [ 35 282   0]\n",
      " [ 70 269   0]\n",
      " [ 59 249   0]\n",
      " [ 64 212   0]\n",
      " [ 57 274   0]\n",
      " [ 56 184   0]\n",
      " [ 48 274   0]\n",
      " [ 56 240   0]\n",
      " [ 66 246   0]\n",
      " [ 54 283   0]\n",
      " [ 69 254   0]\n",
      " [ 51 298   0]\n",
      " [ 43 247   1]\n",
      " [ 62 294   1]\n",
      " [ 67 299   0]\n",
      " [ 59 273   0]\n",
      " [ 45 309   0]\n",
      " [ 58 259   0]\n",
      " [ 50 200   0]\n",
      " [ 62 244   0]\n",
      " [ 38 231   0]\n",
      " [ 66 228   1]\n",
      " [ 52 230   0]\n",
      " [ 53 282   0]\n",
      " [ 63 269   0]\n",
      " [ 54 206   0]\n",
      " [ 66 212   0]\n",
      " [ 55 327   0]\n",
      " [ 49 149   0]\n",
      " [ 54 286   0]\n",
      " [ 56 283   1]\n",
      " [ 46 249   0]\n",
      " [ 61 234   0]\n",
      " [ 67 237   0]\n",
      " [ 58 234   0]\n",
      " [ 47 275   0]\n",
      " [ 52 212   0]\n",
      " [ 58 218   0]\n",
      " [ 57 261   0]\n",
      " [ 58 319   1]\n",
      " [ 61 166   0]\n",
      " [ 42 315   0]\n",
      " [ 52 204   1]\n",
      " [ 59 218   1]\n",
      " [ 40 223   0]\n",
      " [ 61 207   0]\n",
      " [ 46 311   0]\n",
      " [ 59 204   0]\n",
      " [ 57 232   0]\n",
      " [ 57 335   0]\n",
      " [ 55 205   0]\n",
      " [ 61 203   0]\n",
      " [ 58 318   0]\n",
      " [ 58 225   1]\n",
      " [ 67 212   0]\n",
      " [ 44 169   0]\n",
      " [ 63 187   0]\n",
      " [ 63 197   0]\n",
      " [ 59 176   1]\n",
      " [ 57 241   0]\n",
      " [ 45 264   0]\n",
      " [ 68 193   1]\n",
      " [ 57 131   0]\n",
      " [ 57 236   0]]\n",
      "\n",
      "\t Way 2: Y = \n",
      "\n",
      "[1 1 1 1 1 1 1 1 1 1 1 1 1 1 1 1 1 1 1 1 1 1 1 1 1 1 1 1 1 1 1 1 1 1 1 1 1\n",
      " 1 1 1 1 1 1 1 1 1 1 1 1 1 1 1 1 1 1 1 1 1 1 1 1 1 1 1 1 1 1 1 1 1 1 1 1 1\n",
      " 1 1 1 1 1 1 1 1 1 1 1 1 1 1 1 1 1 1 1 1 1 1 1 1 1 1 1 1 1 1 1 1 1 1 1 1 1\n",
      " 1 1 1 1 1 1 1 1 1 1 1 1 1 1 1 1 1 1 1 1 1 1 1 1 1 1 1 1 1 1 1 1 1 1 1 1 1\n",
      " 1 1 1 1 1 1 1 1 1 1 1 1 1 1 1 1 1 0 0 0 0 0 0 0 0 0 0 0 0 0 0 0 0 0 0 0 0\n",
      " 0 0 0 0 0 0 0 0 0 0 0 0 0 0 0 0 0 0 0 0 0 0 0 0 0 0 0 0 0 0 0 0 0 0 0 0 0\n",
      " 0 0 0 0 0 0 0 0 0 0 0 0 0 0 0 0 0 0 0 0 0 0 0 0 0 0 0 0 0 0 0 0 0 0 0 0 0\n",
      " 0 0 0 0 0 0 0 0 0 0 0 0 0 0 0 0 0 0 0 0 0 0 0 0 0 0 0 0 0 0 0 0 0 0 0 0 0\n",
      " 0 0 0 0 0 0 0]\n"
     ]
    }
   ],
   "source": [
    "import numpy as np\n",
    "from sklearn.linear_model import LinearRegression\n",
    "\n",
    "x = []\n",
    "for i in range(len(heart_newChol)):\n",
    "    x_m = []\n",
    "    x_m.append(heart['age'][i])\n",
    "    x_m.append(heart['chol_n'][i])\n",
    "    x_m.append(heart['fbs'][i])\n",
    "    x.append(x_m)\n",
    "\n",
    "y = []    \n",
    "for j in range(len(heart_newChol)):\n",
    "    y.append(heart['target'][j])\n",
    "    \n",
    "x, y = np.array(x), np.array(y)\n",
    "\n",
    "\n",
    "print(\"\\n\\t Way 1: X = \\n\\n{}\\n\\n\\t Way 2: Y = \\n\\n{}\".format(x, y))\n",
    "\n"
   ]
  },
  {
   "cell_type": "code",
   "execution_count": 14,
   "metadata": {
    "pycharm": {
     "name": "#%%\n"
    }
   },
   "outputs": [
    {
     "name": "stdout",
     "output_type": "stream",
     "text": [
      "<class 'numpy.ndarray'> (303, 3)\n"
     ]
    }
   ],
   "source": [
    "print(type(x), np.shape(x))"
   ]
  },
  {
   "cell_type": "markdown",
   "metadata": {
    "pycharm": {
     "name": "#%% md\n"
    }
   },
   "source": [
    "<h4 align=\"right\" style=\"direction:rtl; font-family:tahoma; font-weight:300\">\n",
    "حل مدل با رگرسیون\n",
    "</h4>"
   ]
  },
  {
   "cell_type": "code",
   "execution_count": 15,
   "metadata": {
    "pycharm": {
     "name": "#%%\n"
    }
   },
   "outputs": [],
   "source": [
    "model = LinearRegression().fit(x, y)"
   ]
  },
  {
   "cell_type": "markdown",
   "metadata": {},
   "source": [
    "<h4 align=\"right\" style=\"direction:rtl; font-family:tahoma; font-weight:300\">\n",
    "نمایش خروجی\n",
    "</h4>"
   ]
  },
  {
   "cell_type": "code",
   "execution_count": 16,
   "metadata": {},
   "outputs": [
    {
     "name": "stdout",
     "output_type": "stream",
     "text": [
      " Coefficient of Determination:  0.05684454144214579 \n",
      " Intercept:\t\t\t1.3898493295980205 \n",
      " Slop:\t\t\t\t[-0.01161194 -0.00087923 -0.00234402]\n"
     ]
    }
   ],
   "source": [
    "r_sq = model.score(x, y)\n",
    "intercept = model.intercept_\n",
    "slop = model.coef_\n",
    "\n",
    "print(\" Coefficient of Determination:  {} \\n Intercept:\\t\\t\\t{} \\n Slop:\\t\\t\\t\\t{}\".format(r_sq, intercept, slop))"
   ]
  },
  {
   "cell_type": "markdown",
   "metadata": {},
   "source": [
    "<h4 align=\"right\" style=\"direction:rtl; font-family:tahoma; font-weight:300\">\n",
    "پیش بینی \n",
    "</h4>"
   ]
  },
  {
   "cell_type": "code",
   "execution_count": 17,
   "metadata": {},
   "outputs": [
    {
     "name": "stdout",
     "output_type": "stream",
     "text": [
      "Input Age:\n",
      "55\n",
      "Input Cholesteral:\n",
      "190\n",
      "Input Fasting Blood Sugar:\n",
      "0\n",
      "Prediction: 1.3440490430711238\n"
     ]
    }
   ],
   "source": [
    "a = ['Age', 'Cholesteral', 'Fasting Blood Sugar']\n",
    "\n",
    "\n",
    "x_new = [int(input(\"Input {}:\\n\".format(a[i]))) for i in range(3)]\n",
    "\n",
    "# x_n = np.array(x_new)\n",
    "\n",
    "# y_new = model.predict(x_new)\n",
    "\n",
    "# print(y_new)\n",
    "\n",
    "y_n = [x_new[j]*slop[j] for j in range(3)] \n",
    "y_pred = (sum(y_n)*r_sq) + intercept\n",
    "\n",
    "print(\"Prediction: {}\".format(y_pred))"
   ]
  },
  {
   "cell_type": "markdown",
   "metadata": {},
   "source": [
    "<h4 align=\"right\" style=\"direction:rtl; font-family:tahoma; font-weight:300\">\n",
    "محاسبه آزمون کای دو\n",
    "</h4>"
   ]
  },
  {
   "cell_type": "markdown",
   "metadata": {
    "scrolled": false
   },
   "source": [
    "<h4 align=\"right\" style=\"direction:rtl; font-family:tahoma; font-weight:300\">\n",
    "آزمون برای میزان کلسترول \n",
    "</h4>\n",
    "\n"
   ]
  },
  {
   "cell_type": "code",
   "execution_count": 18,
   "metadata": {
    "scrolled": false
   },
   "outputs": [
    {
     "name": "stdout",
     "output_type": "stream",
     "text": [
      "0      233\n",
      "1      250\n",
      "2      204\n",
      "3      236\n",
      "4      354\n",
      "      ... \n",
      "298    241\n",
      "299    264\n",
      "300    193\n",
      "301    131\n",
      "302    236\n",
      "Name: chol_n, Length: 303, dtype: int64\n"
     ]
    }
   ],
   "source": [
    "print(heart['chol_n'])"
   ]
  },
  {
   "cell_type": "code",
   "execution_count": 19,
   "metadata": {},
   "outputs": [
    {
     "name": "stdout",
     "output_type": "stream",
     "text": [
      "Min:  126 | Max:  360\n",
      "Range:  46.8\n",
      "[126, 172.8, 219.60000000000002, 266.40000000000003, 313.20000000000005, 360.00000000000006]\n"
     ]
    }
   ],
   "source": [
    "Mn_h = min(heart['chol_n'])\n",
    "Mx_h = max(heart['chol_n'])\n",
    "\n",
    "print(\"Min: \",Mn_h, \"| Max: \", Mx_h)\n",
    "\n",
    "Domain = (Mx_h - Mn_h) / 5\n",
    "\n",
    "print(\"Range: \", Domain)\n",
    "\n",
    "D_ch = [0] * 6\n",
    "D_ch[0] = Mn_h\n",
    "for i in range(1, 6):\n",
    "    D_ch[i] += D_ch[i-1] + Domain\n",
    "\n",
    "print(D_ch)\n"
   ]
  }
 ],
 "metadata": {
  "kernelspec": {
   "display_name": "Python 3",
   "language": "python",
   "name": "python3"
  },
  "language_info": {
   "codemirror_mode": {
    "name": "ipython",
    "version": 3
   },
   "file_extension": ".py",
   "mimetype": "text/x-python",
   "name": "python",
   "nbconvert_exporter": "python",
   "pygments_lexer": "ipython3",
   "version": "3.8.3"
  }
 },
 "nbformat": 4,
 "nbformat_minor": 1
}