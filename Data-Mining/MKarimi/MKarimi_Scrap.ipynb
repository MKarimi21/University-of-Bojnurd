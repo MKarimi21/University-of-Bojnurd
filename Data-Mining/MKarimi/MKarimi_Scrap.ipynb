{
 "cells": [
  {
   "cell_type": "markdown",
   "metadata": {},
   "source": [
    "<p align=\"center\" style=\"text-align:center\">\n",
    "  <a style=\"display:inline-block\" href=\"https://github.com/MKarimi21/University-of-Bojnurd/tree/master/Data-Mining\" target=\"_blank\">\n",
    "    <img src=\"Backend/python-logo.png\" alt=\"Python Examples\" width=\"90\" height=\"90\">\n",
    "  </a>\n",
    "  <a style=\"display:inline-block\" href=\"https://github.com/MKarimi21/University-of-Bojnurd\" target=\"_blank\">\n",
    "    <img src=\"Backend/University_of_Bojnord_logo.png\" alt=\"Python Examples\" width=\"100\" height=\"120\">\n",
    "  </a>\n",
    "  <a style=\"display:inline-block\" href=\"https://github.com/MKarimi21/University-of-Bojnurd/tree/master/Data-Mining\" target=\"_blank\">\n",
    "    <img src=\"Backend/tlg_group.jpg\" alt=\"Python Examples\" width=\"80\" height=\"80\">\n",
    "  </a>\n",
    "</p> \n",
    "</br>\n",
    "</br>\n",
    "<p align=\"center\" style=\"text-align:center\"> \n",
    "  <a href=\"https://github.com/MKarimi21/University-of-Bojnurd/blob/master/LICENSE\" target=\"_blank\" style=\"display:inline-flex\"><img src=\"https://img.shields.io/badge/Licence-MIT-blue?style=flat-square\" target=\"_blank\"></a>\n",
    "  <a href=\"https://www.mr-karimi.ir\" target=\"_blank\" style=\"display:inline-flex\"><img src=\"https://img.shields.io/badge/Create--by-MKarimi-red?style=flat-square\" target=\"_blank\"></a>\n",
    "</p>\n",
    "\n",
    "<h2 align=\"center\"> Data Mining </h2>\n",
    "<h3 align=\"center\" style=\"font-family:tahoma\">\n",
    "    درس داده کاوی\n",
    "    </h3>\n",
    "\n",
    "\n",
    "\n",
    "\n",
    "  "
   ]
  },
  {
   "cell_type": "markdown",
   "metadata": {},
   "source": [
    "<h4 align=\"center\" style=\"font-family:tahoma; font-weight:300\">\n",
    "    <b>\n",
    "        تمرین های درس داده کاوی، الگوریتم ها و کاربرد ها - دکتر مربی\n",
    "    </b>\n",
    "    <br>\n",
    "    <br>\n",
    "    دانشجو: مصطفی کریمی\n",
    "</h4>"
   ]
  },
  {
   "cell_type": "markdown",
   "metadata": {},
   "source": [
    "<h4 align=\"center\" style=\"font-family:tahoma; font-weight:300\">\n",
    "    <br>\n",
    "    <br>\n",
    "    <b>\n",
    "     #============== تمرین اول ==============#\n",
    "    </b>\n",
    "    <br>\n",
    "    <br>\n",
    "       \n",
    "</h4>\n",
    "\n",
    "\n",
    "<h4 align=\"right\" style=\"direction:rtl; font-family:tahoma; font-weight:300\">\n",
    "    خواندن ورودی فایل text و یا نوشتن در آن.\n",
    "</h4>\n",
    "\n",
    "\n"
   ]
  },
  {
   "cell_type": "code",
   "execution_count": 1,
   "metadata": {},
   "outputs": [
    {
     "output_type": "stream",
     "name": "stdout",
     "text": "Data: Importan data\nMade: 2/9. 99\nPart: 1 - DM\nRecord: 01\n"
    }
   ],
   "source": [
    "text_data = open(\"File/Data.txt\", \"r\")\n",
    "print(text_data.read())"
   ]
  },
  {
   "cell_type": "code",
   "execution_count": 2,
   "metadata": {},
   "outputs": [
    {
     "output_type": "execute_result",
     "data": {
      "text/plain": "31"
     },
     "metadata": {},
     "execution_count": 2
    }
   ],
   "source": [
    "f = open(\"File/text_output.txt\", \"w\")\n",
    "text = \" This is test. \"\n",
    "\n",
    "for i in range(0, 10):\n",
    "    f.write(\"This is for loop: is [# {} #]\\n\".format(str(i + 1)))\n",
    "\n",
    "f.write(\"\\nOut Put >> [ {} ]\".format(str(text)))"
   ]
  },
  {
   "cell_type": "code",
   "execution_count": 14,
   "metadata": {},
   "outputs": [],
   "source": [
    "f = open(\"File/text_append_mood.txt\", \"a\")\n",
    "\n",
    "f.write(\"This is text: first line\\n\")\n",
    "\n",
    "for i in range(0, 5):\n",
    "    f.write(\"\\nThis is append [ {} ]\\n\".format(str(i + 1)))"
   ]
  },
  {
   "cell_type": "markdown",
   "metadata": {},
   "source": [
    "\n",
    "<h4 align=\"right\" style=\"direction:rtl; font-family:tahoma; font-weight:300\">\n",
    "    در این روش می‌توان اول با ترمینال آدرس فایل در سیستم را به‌دست آورد یا با گزینه های پیش فرض ویندوز در قسمت\n",
    "    \"Home > Copy path\" استفاده نمود\n",
    "</h4>\n",
    "\n",
    "```python\n",
    "import os\n",
    "os.getcwd()\n",
    "```"
   ]
  },
  {
   "cell_type": "code",
   "execution_count": 26,
   "metadata": {},
   "outputs": [
    {
     "output_type": "stream",
     "name": "stdout",
     "text": "['This-01.txt', 'This-02.txt', 'This-03.txt', 'This-04.txt']\n['This-01', 'This-02', 'This-03', 'This-04']\n"
    }
   ],
   "source": [
    "# data from folder\n",
    "\n",
    "import os\n",
    "\n",
    "data_list = os.listdir(\"File/list_data\")\n",
    "\n",
    "print(data_list)\n",
    "\n",
    "data_even = []\n",
    "\n",
    "for i in range(len(data_list)):\n",
    "    data_even.append(data_list[i][0:-4])\n",
    "\n",
    "print(data_even)"
   ]
  },
  {
   "cell_type": "code",
   "execution_count": 30,
   "metadata": {},
   "outputs": [
    {
     "output_type": "stream",
     "name": "stdout",
     "text": "<_io.TextIOWrapper name='File/text_output.txt' mode='r' encoding='UTF-8'>\nThis is for loop: is [# 1 #]\nThis is for loop: is [# 2 #]\nThis is for loop: is [# 3 #]\nThis is for loop: is [# 4 #]\nThis is for loop: is [# 5 #]\nThis is for loop: is [# 6 #]\nThis is for loop: is [# 7 #]\nThis is for loop: is [# 8 #]\nThis is for loop: is [# 9 #]\nThis is for loop: is [# 10 #]\n\nOut Put >> [  This is test.  ]\n"
    }
   ],
   "source": [
    "with open(\"File/text_output.txt\") as f:\n",
    "    data = f.read()\n",
    "\n",
    "print(f)\n",
    "\n",
    "print(data)"
   ]
  },
  {
   "cell_type": "markdown",
   "metadata": {},
   "source": [
    "\n",
    "<h4 align=\"right\" style=\"direction:rtl; font-family:tahoma; font-weight:300\">\n",
    "    ورودی دیتا های Excel و CSV\n",
    "    <br>\n",
    "    برای مطالعه بیشتر با این library به لینک زیر مراجعه کنید:\n",
    "</h4>\n",
    "\n",
    "Pandas-DataFrame: [Page-Link](https://pandas.pydata.org/pandas-docs/stable/getting_started/dsintro.html#dataframe)"
   ]
  },
  {
   "cell_type": "code",
   "execution_count": 1,
   "metadata": {},
   "outputs": [],
   "source": [
    "import pandas as pd\n",
    "\n",
    "housing = pd.read_csv(\"File/housing.csv\")\n",
    "\n",
    "#print(housing)\n",
    "#housing.info()\n",
    "#print(housing.iloc[20:35, ].to_string())"
   ]
  },
  {
   "cell_type": "code",
   "execution_count": 2,
   "metadata": {},
   "outputs": [],
   "source": [
    "import pandas as pd \n",
    "\n",
    "excel = pd.read_excel(\"File/Data_Excel.xlsx\")\n",
    "\n",
    "# print(excel)\n",
    "#excel.info()\n",
    "#print(excel.iloc[10:20, 0:2].to_string())"
   ]
  },
  {
   "cell_type": "markdown",
   "metadata": {},
   "source": [
    "<h4 align=\"right\" style=\"direction:rtl; font-family:tahoma; font-weight:300\">\n",
    "    دریافت اطلاعات از سازمان بورس\n",
    "    <br>\n",
    "    برای مثال صنایع مس ایران (فملی) در بازار اول (تابلوی اصلی) بورس\n",
    "</h4>\n",
    "\n",
    "TseTmc (Tehran Securities Exchange Technology Management Co): [Home-Page](http://www.tsetmc.com/)\n",
    "\n",
    "\n",
    "Famely page's = [Famely_Page](http://www.tsetmc.com/Loader.aspx?ParTree=151311&i=35425587644337450#)"
   ]
  },
  {
   "cell_type": "code",
   "execution_count": 16,
   "metadata": {},
   "outputs": [
    {
     "output_type": "stream",
     "name": "stdout",
     "text": "<TICKER>  <DTYYYYMMDD>  <FIRST>   <HIGH>    <LOW>  <CLOSE>  \\\n0     S*I..N..C..Ind.      20200426  11164.0  11164.0  11164.0  11164.0   \n1     S*I..N..C..Ind.      20200425  10639.0  10648.0  10278.0  10633.0   \n2     S*I..N..C..Ind.      20200422  10250.0  10250.0   9800.0  10141.0   \n3     S*I..N..C..Ind.      20200421   9963.0  10279.0   9795.0  10052.0   \n4     S*I..N..C..Ind.      20200420   9500.0   9999.0   9250.0   9839.0   \n...               ...           ...      ...      ...      ...      ...   \n2902  S*I..N..C..Ind.      20070210   4008.0   4008.0   4008.0   4008.0   \n2903  S*I..N..C..Ind.      20070207   3930.0   3930.0   3930.0   3930.0   \n2904  S*I..N..C..Ind.      20070206   3853.0   3853.0   3853.0   3853.0   \n2905  S*I..N..C..Ind.      20070205   3778.0   3778.0   3778.0   3778.0   \n2906  S*I..N..C..Ind.      20070204   4000.0   4000.0   3600.0   3704.0   \n\n            <VALUE>      <VOL>  <OPENINT> <PER>   <OPEN>   <LAST>  \n0      282509552584   25305406       1415     D  10633.0  11164.0  \n1     1650627235222  155239880      18749     D  10141.0  10648.0  \n2     1586848417818  156478248      19504     D  10052.0  10170.0  \n3      836027130920   83170132      13661     D   9839.0  10129.0  \n4     1072967189616  109046931      16587     D   9534.0   9888.0  \n...             ...        ...        ...   ...      ...      ...  \n2902   162907276224   40645528       4984     D   3930.0   4008.0  \n2903   122171316570   31086849       4247     D   3853.0   3930.0  \n2904   103453562449   26850133       4118     D   3778.0   3853.0  \n2905    40902501888   10826496       1709     D   3704.0   3778.0  \n2906   640374172370  172898994       2489     D   4000.0   3704.0  \n\n[2907 rows x 12 columns]\n"
    }
   ],
   "source": [
    "import pandas as pd \n",
    "url_famely = \"http://www.tsetmc.com/tsev2/data/Export-txt.aspx?t=i&a=1&b=0&i=35425587644337450\"\n",
    "data_famely = pd.read_csv(url_famely)\n",
    "print(data_famely)"
   ]
  },
  {
   "cell_type": "markdown",
   "metadata": {},
   "source": [
    "\n",
    "<h4 align=\"right\" style=\"direction:rtl; font-family:tahoma; font-weight:300\">\n",
    "    رشته، دیکشنری و json\n",
    "</h4>\n",
    "\n"
   ]
  },
  {
   "cell_type": "code",
   "execution_count": 23,
   "metadata": {},
   "outputs": [
    {
     "output_type": "stream",
     "name": "stdout",
     "text": "{\"name\": \"Mostafa\", \"age\": 24, \"Married\": false, \"Children\": null, \"Student\": true}\nMostafa\n{'name': 'MMM', 'age': 29, 'Married': False, 'Children': None, 'Student': True}\n{\"name\": \"Mostafa\", \"age\": 24, \"Married\": false, \"Children\": null, \"Student\": true}\n"
    }
   ],
   "source": [
    "import json\n",
    "\n",
    "data_dic = {\n",
    "    \"name\": \"Mostafa\",\n",
    "    \"age\": 24,\n",
    "    \"Married\": False,\n",
    "    \"Children\": None,\n",
    "    \"Student\": True,\n",
    "}\n",
    "\n",
    "data_json ='''\n",
    "{\n",
    "    \"name\": \"MMM\",\n",
    "    \"age\": 29,\n",
    "    \"Married\": false,\n",
    "    \"Children\": null,\n",
    "    \"Student\": true\n",
    "}\n",
    "'''\n",
    "dict_json = json.dumps(data_dic)\n",
    "print(dict_json)\n",
    "\n",
    "print(data_dic[\"name\"])\n",
    "\n",
    "\n",
    "with open(\"File/dict2jason.json\", \"w\") as da:\n",
    "    json.dump(dict_json, da)\n",
    "\n",
    "json_data = json.loads(data_json)\n",
    "print(json_data)\n",
    "\n",
    "with open(\"File/dict2jason.json\", \"r\") as da:\n",
    "    j2d = json.load(da)\n",
    "\n",
    "print(j2d)\n",
    "\n",
    "\n"
   ]
  },
  {
   "cell_type": "markdown",
   "metadata": {},
   "source": [
    "<h4 align=\"right\" style=\"direction:rtl; font-family:tahoma; font-weight:300\">\n",
    "    کار با api ها\n",
    "</h4>\n",
    "\n",
    "api = Application Programming Interface"
   ]
  },
  {
   "cell_type": "code",
   "execution_count": 28,
   "metadata": {
    "tags": [
     "outputPrepend"
    ]
   },
   "outputs": [
    {
     "output_type": "stream",
     "name": "stdout",
     "text": "<Response [200]>\nIn first day Confirmed is 47593 and Deaths is 3036\n********************* ##### *********************\nIn day 1 Confirmed by Co19-test is 47593 and Deaths is 3036\nIn day 2 Confirmed by Co19-test is 50468 and Deaths is 3160\nIn day 3 Confirmed by Co19-test is 53183 and Deaths is 3294\nIn day 4 Confirmed by Co19-test is 55743 and Deaths is 3452\nIn day 5 Confirmed by Co19-test is 58226 and Deaths is 3603\nIn day 6 Confirmed by Co19-test is 60500 and Deaths is 3739\nIn day 7 Confirmed by Co19-test is 62589 and Deaths is 3872\nIn day 8 Confirmed by Co19-test is 64586 and Deaths is 3993\nIn day 9 Confirmed by Co19-test is 66220 and Deaths is 4110\nIn day 10 Confirmed by Co19-test is 68192 and Deaths is 4232\nIn day 11 Confirmed by Co19-test is 70029 and Deaths is 4357\nIn day 12 Confirmed by Co19-test is 71686 and Deaths is 4474\nIn day 13 Confirmed by Co19-test is 73303 and Deaths is 4585\nIn day 14 Confirmed by Co19-test is 74877 and Deaths is 4683\nIn day 15 Confirmed by Co19-test is 76389 and Deaths is 4777\nIn day 16 Confirmed by Co19-test is 77995 and Deaths is 4869\nIn day 17 Confirmed by Co19-test is 79494 and Deaths is 4958\nIn day 18 Confirmed by Co19-test is 80868 and Deaths is 5031\nIn day 19 Confirmed by Co19-test is 82211 and Deaths is 5118\nIn day 20 Confirmed by Co19-test is 83505 and Deaths is 5209\nIn day 21 Confirmed by Co19-test is 84802 and Deaths is 5297\nIn day 22 Confirmed by Co19-test is 85996 and Deaths is 5391\nIn day 23 Confirmed by Co19-test is 87026 and Deaths is 5481\nIn day 24 Confirmed by Co19-test is 88194 and Deaths is 5574\n"
    }
   ],
   "source": [
    "import requests\n",
    "\n",
    "\n",
    "c19_response = requests.get(\"https://api.covid19api.com/country/iran?from=2020-04-01T00:00:00Z&to=2020-04-24T00:00:00Z\")\n",
    "\n",
    "print(c19_response)\n",
    "# print(c19_response.json())\n",
    "\n",
    "a = c19_response.json()[0]['Confirmed']\n",
    "b = c19_response.json()[0]['Deaths']\n",
    "print(\"In first day Confirmed is {} and Deaths is {}\".format(a, b))\n",
    "print(\"*\"*21, \"#####\", \"*\"*21)\n",
    "\n",
    "\n",
    "iter_co = len(c19_response.json())\n",
    "\n",
    "for i in range(0, iter_co):\n",
    "    print(\"In day {} Confirmed by Co19-test is {} and Deaths is {}\".format(i+1, c19_response.json()[i]['Confirmed'], c19_response.json()[i]['Deaths'])) \n",
    "\n"
   ]
  },
  {
   "cell_type": "code",
   "execution_count": 39,
   "metadata": {},
   "outputs": [
    {
     "output_type": "stream",
     "name": "stdout",
     "text": "<Response [200]>\n{'data': {'base': 'BTC', 'currency': 'USD', 'amount': '8726.74'}} \n 8726.74\nToday per BitCoins amount in USD is 8726.74 dollars\n"
    }
   ],
   "source": [
    "import requests\n",
    "\n",
    "bit_response = requests.get(\"https://api.coinbase.com/v2/prices/buy?currency=USD\")\n",
    "\n",
    "print(bit_response)\n",
    "a = bit_response.json()\n",
    "b = bit_response.json()['data']['amount']\n",
    "print(a,\"\\n\", b)\n",
    "\n",
    "\n",
    "print(\"Today per BitCoins amount in USD is {} dollars\".format(b))\n",
    "\n",
    "\n"
   ]
  },
  {
   "cell_type": "markdown",
   "metadata": {},
   "source": [
    "\n",
    "<h4 align=\"right\" style=\"direction:rtl; font-family:tahoma; font-weight:300\">\n",
    "    خرنده وب یا Web Scrapping\n",
    "    <br>\n",
    "    مفهوم Regex\n",
    "</h4>\n"
   ]
  },
  {
   "cell_type": "code",
   "execution_count": 21,
   "metadata": {
    "tags": [
     "outputPrepend"
    ]
   },
   "outputs": [
    {
     "output_type": "stream",
     "name": "stdout",
     "text": "سبد سیب زمینی و پیاز تلن مدل 022-40-01  -   ۹۸,۲۸۰ تومان\nجعبه دستمال کاغذی تلن مدل 77088  -   ۸۵,۰۰۰ تومان\nسرویس غذاخوری 98 پارچه چینی زرین ایران سری کواترو مدل مون بلان درجه یک  -   ۱,۳۶۸,۰۰۰ تومان\nسرویس غذاخوری 102 پارچه چینی زرین ایران سری ایتالیا اف مدل مون بلان درجه یک  -   ۱,۱۸۱,۰۰۰ تومان\nسرویس غذاخوری 27 پارچه چینی زرین ایران سری کواترو مدل مون بلان درجه عالی  -   ۴۴۱,۰۰۰ تومان\nتخته گوشت تلن مدل K1381-2  -   ۸۸,۵۰۰ تومان\nپایه رول دستمال تلن مدل K1381  -   ۵۳,۰۰۰ تومان\nقالب کیک گواردینی سری کرامیا مدل Flan  -   ۹۷,۱۰۰ تومان\nست جای ادویه 7 پارچه تلن مدل 1381-17  -   ۱۱۵,۰۰۰ تومان\nتخته گوشت تلن مدل K1381-10  -   ۷۷,۵۰۰ تومان\nجاقاشقی تلن مدل Oliver کد 02  -   ۷۸,۰۰۰ تومان\nچادر 2 نفره هاسکی مدل Felen 2-3  -   ۴,۴۰۰,۰۰۰ تومان\nشامپو گلان سری Protective مدل Anti Pollution حجم 300 میلی لیتر  -  ۲۵,۰۰۰ ٪۴۰ ۱۵,۰۰۰ تومانحذف۱ عدد۲ عدد۳ عدد۴ عدد۵ عدد۶ عدد۷ عدد۸ عدد۹ عدد۱۰ عدد۱۱ عدد۱۲ عدد۱۳ عدد۱۴ عدد۱۵ عدد۱۶ عدد۱۷ عدد۱۸ عدد\nشامپو بدن گلان کد 002 حجم 750 میلی لیتر  -   ۱۹,۸۷۰ تومانحذف۱ عدد۲ عدد۳ عدد۴ عدد۵ عدد۶ عدد۷ عدد۸ عدد۹ عدد۱۰ عدد۱۱ عدد\nپایه نگهدارنده گوشی موبایل تلن مدل T02  -   ۱۰,۴۰۰ تومان\nسرویس غذاخوری 102 پارچه چینی زرین ایران سری ایتالیا اف مدل مون بلان درجه عالی  -   ۱,۲۹۰,۰۰۰ تومان\nسرویس غذاخوری 27 پارچه چینی زرین ایران سری کواترو مدل مون بلان درجه عالی  -   ۵۶۰,۰۰۰ تومان\nادو پرفیوم زنانه کنزو مدل Jeu d'Amour Félin حجم 50 میلی لیتر  -  ناموجود\nسرویس غذاخوری 98 پارچه چینی زرین ایران سری کواترو مدل مون بلان درجه عالی  -   ۱,۶۰۰,۰۰۰ تومان\nشعله پخش کن تلن مدل 111233332  -   ۲۳,۵۰۰ تومان\nزیر قابلمه ای تلن طرح توت فرنگی  -   ۱۹,۹۰۰ تومان\nسرویس غذاخوری 27 پارچه چینی زرین ایران سری کواترو مدل مون بلان درجه یک  -   ۳۸۳,۰۰۰ تومان\nجاقاشقی تلن مدل K1412-11  -   ۸۳,۰۰۰ تومان\nپایه رول دستمال تلن مدل K13811  -   ۵۹,۰۰۰ تومان\nشلوارک زنانه ساروک مدل Melan کد 01  -  ناموجود\nتخته گوشت تلن مدل گرد M  -   ۹۹,۰۰۰ تومان\nكتاب سوته دلان 6 اثر سيدعباس ميرحسيني  -   ۱۰,۰۰۰ تومان\nمیز اتو تلن مدل ABS1100  -   ۱۸۹,۰۰۰ تومان\nمیز اتو تلن مدل ABS1104  -   ۱۷۵,۰۰۰ تومان\nست جای ادویه 2 پارچه تلن مدل  -   ۳۱,۳۰۰ تومان\nآویز لباس تلن مدل سیب  -   ۲۷,۰۰۰ تومان\nكتاب سوته دلان 2 اثر سيد عباس ميرحسيني  -   ۳۰,۰۰۰ تومان\nجا کفشی مدل FELA  -  ناموجود\nشامپو گلان سری Protective مدل Anti Pollution حجم 300 میلی لیتر  -   ۲۵,۰۰۰ تومانحذف۱ عدد۲ عدد۳ عدد۴ عدد۵ عدد۶ عدد۷ عدد۸ عدد۹ عدد۱۰ عدد۱۱ عدد۱۲ عدد۱۳ عدد۱۴ عدد۱۵ عدد۱۶ عدد۱۷ عدد۱۸ عدد۱۹ عدد۲۰ عدد۲۱ عدد۲۲ عدد۲۳ عدد۲۴ عدد\nبند رخت تلن مدل BR1412-03  -   ۱۹۸,۰۰۰ تومان\nتخته گوشت تلن مدل circle L1381-18  -   ۱۱۵,۰۰۰ تومان\n"
    }
   ],
   "source": [
    "import requests\n",
    "import re\n",
    "from bs4 import BeautifulSoup\n",
    "\n",
    "\n",
    "felan = input('chi mikhay ?')\n",
    "req = requests.get('https://www.digikala.com/search/?q={}'.format(felan))\n",
    "soup = BeautifulSoup(req.text , \"html.parser\")\n",
    "\n",
    "# title = soup.find_all('div' , attrs={'class':'c-product-box__title'})\n",
    "# cost = soup.find_all('div', attrs={'class':'c-price__value-wrapper'})\n",
    "# len_page = int(len(title))\n",
    "\n",
    "# title_val = re.sub(r'\\s+', ' ', title[2].text)\n",
    "# cost_val = re.sub(r'\\s+', ' ', cost[2].text)\n",
    "\n",
    "# print(\"Title : {} and cost is {} \".format(title_val, cost_val))\n",
    "\n",
    "# with open(\"File/Resul_di.txt\", \"w\") as res:\n",
    "#     for i in range(0, len_page - 1 ):\n",
    "#         res.write(\"Title: {} -\" .format(re.sub(r'\\s+', ' ', title[i].text)))\n",
    "#         res.write(\"- Cost: {} \\n\".format(re.sub(r'\\s+', ' ', cost[i].text)))\n",
    "\n",
    "content = soup.find_all('div', attrs={'class':'c-product-box__content'})\n",
    "\n",
    "for i in range(len(content)):\n",
    "    \n",
    "    print(re.sub(r'\\s+', ' ', content[i].find('div', attrs={'class': 'c-product-box__title'}).text), \" - \", re.sub(r'\\s+', ' ', content[i].find('div', attrs={'class': 'c-product-box__row c-product-box__row--price'}).text)) \n",
    "    \n"
   ]
  },
  {
   "cell_type": "markdown",
   "metadata": {},
   "source": [
    "---\n",
    "### Any Question:\n",
    "- [Email](mailto:mkarimi21@hotmail.com), [LinkedIn](https://www.linkedin.com/in/mkarimi21/), [Telegram](https://telegram.me/mkarimi21). \n",
    "\n",
    "\n",
    "-----\n",
    "\n",
    "\n",
    "<p align=\"center\">\n",
    "  <a href=\"https://mr-karimi.ir/\">\n",
    "    <img src='Backend/MKarimi_Avatar.png' width=\"100\" height=\"100\">\n",
    "  </a>\n",
    "</p>\n",
    "<h3 align=\"center\">Mostafa Karimi</h3>\n"
   ]
  },
  {
   "cell_type": "code",
   "execution_count": 1,
   "metadata": {},
   "outputs": [
    {
     "output_type": "stream",
     "name": "stdout",
     "text": "[NbConvertApp] Converting notebook MKarimi_Scrap.ipynb to html\n[NbConvertApp] Writing 310008 bytes to MKarimi_Scrap.html\n"
    }
   ],
   "source": [
    "!jupyter nbconvert --to html MKarimi_Scrap.ipynb"
   ]
  },
  {
   "cell_type": "code",
   "execution_count": null,
   "metadata": {},
   "outputs": [],
   "source": []
  }
 ],
 "metadata": {
  "language_info": {
   "codemirror_mode": {
    "name": "ipython",
    "version": 3
   },
   "file_extension": ".py",
   "mimetype": "text/x-python",
   "name": "python",
   "nbconvert_exporter": "python",
   "pygments_lexer": "ipython3",
   "version": "3.8.1-final"
  },
  "orig_nbformat": 2,
  "kernelspec": {
   "name": "python38164bit8c031079cefc4849a68c159dc7eff057",
   "display_name": "Python 3.8.1 64-bit"
  }
 },
 "nbformat": 4,
 "nbformat_minor": 2
}