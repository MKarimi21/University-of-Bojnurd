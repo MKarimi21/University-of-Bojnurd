{
 "cells": [
  {
   "cell_type": "markdown",
   "metadata": {},
   "source": [
    "### Meeting: 01\n",
    "need upgrade and graphical design\n",
    "\n",
    "Knapsack Problem:\n",
    "\n",
    "$$ max \\sum_{j=1}^{n} V_{j}x_{j} $$\n",
    "\n",
    "$$ Subject to: $$\n",
    "\n",
    "$$ \\sum_{j=1}^{n} W_{j}x_{j} \\leqslant Cap $$\n",
    "$$ x_{j} \\in \\left \\{ 0, 1 \\right \\} $$\n",
    "\n",
    "Data Input for example:\n",
    "$$ W = \\left \\{ 5, 4, 6, 1, 2, 7, 9, 10 \\right \\} $$\n",
    "$$ V = \\left \\{ 2, 4, 2, 3, 5, 2, 1, 7 \\right \\} $$\n",
    "$$ Cap = 18 $$"
   ]
  },
  {
   "cell_type": "code",
   "execution_count": 2,
   "metadata": {},
   "outputs": [
    {
     "name": "stdout",
     "output_type": "stream",
     "text": [
      "Enter the column size of your matrix = \n",
      "8\n",
      "Enter the capacity of your problem = \n",
      "18\n",
      "Enter the amount of W Number 1 Pls : 2\n",
      "Enter the amount of W Number 2 Pls : 4\n",
      "Enter the amount of W Number 3 Pls : 2\n",
      "Enter the amount of W Number 4 Pls : 3\n",
      "Enter the amount of W Number 5 Pls : 5\n",
      "Enter the amount of W Number 6 Pls : 2\n",
      "Enter the amount of W Number 7 Pls : 1\n",
      "Enter the amount of W Number 8 Pls : 7\n",
      "-------------\n",
      "Enter the amount of V Number 1 Pls : 5\n",
      "Enter the amount of V Number 2 Pls : 4\n",
      "Enter the amount of V Number 3 Pls : 6\n",
      "Enter the amount of V Number 4 Pls : 1\n",
      "Enter the amount of V Number 5 Pls : 2\n",
      "Enter the amount of V Number 6 Pls : 7\n",
      "Enter the amount of V Number 7 Pls : 9\n",
      "Enter the amount of V Number 8 Pls : 10\n",
      "\n",
      "RandomPerm Array : \n",
      " [0 0 1 0 0 1 1 0]\n",
      "Sum of the Subject with W =  5\n",
      "Object is :  22\n"
     ]
    }
   ],
   "source": [
    "# import Numpy Library in Code\n",
    "import numpy as np\n",
    "\n",
    "# input Data\n",
    "size_no = int(input(\"Enter the column size of your matrix = \\n\"))\n",
    "Cap = int(input(\"Enter the capacity of your problem = \\n\"))\n",
    "\n",
    "# create matrix by lenght data\n",
    "array_W = np.zeros((1, size_no), dtype = int)\n",
    "array_V = np.zeros((1, size_no), dtype = int)\n",
    "array_W = []\n",
    "array_V = []\n",
    "\n",
    "# create random matrix number 0&1 and transpose\n",
    "rand_item = np.random.randint(0, 2, size = (size_no))\n",
    "reShape = np.reshape(rand_item, (size_no,1))\n",
    "\n",
    "# append data in V and W matrix\n",
    "for i in range (0, size_no):\n",
    "    wMatrix = int(input(\"Enter the amount of W Number \" + str(i+1) + \" Pls : \"))\n",
    "    array_W.append(wMatrix)\n",
    "print(\"-------------\")\n",
    "for i in range (0, size_no):\n",
    "    vMatrix = int(input(\"Enter the amount of V Number \" + str(i+1) + \" Pls : \"))\n",
    "    array_V.append(vMatrix)\n",
    "    \n",
    "# multiplication for testing data\n",
    "z = np.diag(array_W*reShape)\n",
    "if z.sum() <= Cap:\n",
    "    object = np.diag(array_V*reShape)\n",
    "    \n",
    "# print Data\n",
    "print(\"\\nRandomPerm Array : \\n\", rand_item)\n",
    "print('Sum of the Subject with W = ', z.sum())\n",
    "print(\"Object is : \", object.sum())\n"
   ]
  },
  {
   "cell_type": "markdown",
   "metadata": {},
   "source": [
    "\n",
    "---\n",
    "## For Guide or need help, Contact me:\n",
    "- [Email](mailto:mkarimi21@hotmail.com), [LinkedIn](https://www.linkedin.com/in/mkarimi21/), [Telegram](https://telegram.me/mkarimi21). \n",
    "\n",
    "\n",
    "-----\n",
    "\n",
    "\n",
    "<p align=\"center\">\n",
    "  <a href=\"https://mr-karimi.ir/\">\n",
    "    <img src='https://avataaars.io/?avatarStyle=Circle&topType=ShortHairShortWaved&accessoriesType=Prescription02&hairColor=Black&facialHairType=BeardLight&facialHairColor=Black&clotheType=Hoodie&clotheColor=Black&eyeType=Wink&eyebrowType=Default&mouthType=Smile&skinColor=Light' width=\"100\" height=\"100\">\n",
    "  </a>\n",
    "</p>\n",
    "<h3 align=\"center\">Mostafa Karimi</h3>\n",
    "\n",
    "            \n"
   ]
  }
 ],
 "metadata": {
  "kernelspec": {
   "display_name": "Python 3",
   "language": "python",
   "name": "python3"
  },
  "toc": {
   "base_numbering": 1,
   "nav_menu": {},
   "number_sections": true,
   "sideBar": true,
   "skip_h1_title": false,
   "title_cell": "Table of Contents",
   "title_sidebar": "Contents",
   "toc_cell": false,
   "toc_position": {},
   "toc_section_display": true,
   "toc_window_display": false
  }
 },
 "nbformat": 4,
 "nbformat_minor": 2
}
